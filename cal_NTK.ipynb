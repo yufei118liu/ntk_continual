{
 "cells": [
  {
   "cell_type": "code",
   "execution_count": 1,
   "id": "e8cd18ddf5ff2dba",
   "metadata": {
    "collapsed": false,
    "jupyter": {
     "outputs_hidden": false
    }
   },
   "outputs": [
    {
     "name": "stderr",
     "output_type": "stream",
     "text": [
      "C:\\Users\\xueho\\AppData\\Local\\Packages\\PythonSoftwareFoundation.Python.3.11_qbz5n2kfra8p0\\LocalCache\\local-packages\\Python311\\site-packages\\tqdm\\auto.py:21: TqdmWarning: IProgress not found. Please update jupyter and ipywidgets. See https://ipywidgets.readthedocs.io/en/stable/user_install.html\n",
      "  from .autonotebook import tqdm as notebook_tqdm\n"
     ]
    }
   ],
   "source": [
    "import torch \n",
    "import torch.nn as nn\n",
    "import torch.optim as optim\n",
    "from functorch import make_functional, vmap, vjp, jvp, jacrev, make_functional_with_buffers\n",
    "from continuum import ClassIncremental\n",
    "from continuum.datasets import CIFAR10\n",
    "from continuum.tasks import split_train_val\n",
    "from torch.utils.data import DataLoader\n",
    "import numpy as np\n",
    "from matplotlib import pyplot as plt\n",
    "\n",
    "import warnings\n",
    "#warnings.filterwarnings(\"ignore\")\n",
    "DEVICE = \"cuda\""
   ]
  },
  {
   "cell_type": "code",
   "execution_count": 2,
   "id": "initial_id",
   "metadata": {
    "ExecuteTime": {
     "end_time": "2025-01-16T15:08:01.067123500Z",
     "start_time": "2025-01-16T15:08:01.030154400Z"
    },
    "collapsed": false,
    "jupyter": {
     "outputs_hidden": false
    }
   },
   "outputs": [],
   "source": [
    "class CNN(nn.Module):\n",
    "    def __init__(self, input_dim, hidden_dim, output_dim):\n",
    "        super(CNN, self).__init__()\n",
    "        self.conv_layer1 = torch.nn.Sequential(\n",
    "            torch.nn.Conv2d(input_dim, 32, kernel_size=5),\n",
    "            # torch.nn.BatchNorm2d(32),\n",
    "            torch.nn.ReLU(),\n",
    "        )\n",
    "        self.conv_layer2 = torch.nn.Sequential(\n",
    "            torch.nn.Conv2d(32, 32, kernel_size=3),\n",
    "            # torch.nn.BatchNorm2d(32),\n",
    "            torch.nn.ReLU(),\n",
    "        )\n",
    "        self.pool1 = torch.nn.MaxPool2d((2, 2), stride=(2, 2))\n",
    "        self.conv_layer3 = torch.nn.Sequential(\n",
    "            torch.nn.Conv2d(32, 64, kernel_size=3),\n",
    "            # torch.nn.BatchNorm2d(64),\n",
    "            torch.nn.ReLU(),\n",
    "        )\n",
    "        self.conv_layer4 = torch.nn.Sequential(\n",
    "            torch.nn.Conv2d(64, 64, kernel_size=3),\n",
    "            # torch.nn.BatchNorm2d(64),\n",
    "            torch.nn.ReLU(),\n",
    "        )\n",
    "        self.layer1 = nn.Linear(64*9*9, hidden_dim)\n",
    "        self.layer2 = nn.Linear(hidden_dim, hidden_dim)\n",
    "        self.output_layer = nn.Linear(hidden_dim, output_dim)\n",
    "\n",
    "    def forward(self, x):\n",
    "        x = self.conv_layer1(x)\n",
    "        x = self.conv_layer2(x)\n",
    "        x = self.pool1(x)\n",
    "        x = self.conv_layer3(x)\n",
    "        x = torch.flatten(self.conv_layer4(x),start_dim=1)\n",
    "        x = torch.relu(self.layer1(x))\n",
    "        x = torch.relu(self.layer2(x))\n",
    "        x = self.output_layer(x)\n",
    "        return x"
   ]
  },
  {
   "cell_type": "code",
   "execution_count": 3,
   "id": "1c4bd2f5",
   "metadata": {},
   "outputs": [],
   "source": [
    "class NN(nn.Module):\n",
    "    def __init__(self, layer_sizes):\n",
    "        super(NN, self).__init__()\n",
    "        self.linears = nn.ModuleList()\n",
    "        for i in range(len(layer_sizes) - 1):\n",
    "            m = nn.Linear(layer_sizes[i], layer_sizes[i + 1])\n",
    "            self.linears.append(m)\n",
    "        \n",
    "    def forward(self, x):\n",
    "        for linear in self.linears[:-1]:\n",
    "            x = torch.tanh(linear(x))\n",
    "        x = self.linears[-1](x)\n",
    "        return x "
   ]
  },
  {
   "cell_type": "code",
   "execution_count": null,
   "id": "cf90debe",
   "metadata": {},
   "outputs": [
    {
     "name": "stdout",
     "output_type": "stream",
     "text": [
      "Files already downloaded and verified\n",
      "Number of classes: 10.\n",
      "Number of tasks: 5.\n"
     ]
    }
   ],
   "source": [
    "# Prepare Dataset\n",
    "dataset = CIFAR10(\"Datasets/CIFAR10/\", download=True, train=True) # Change download to True \n",
    "\n",
    "scenario = ClassIncremental(\n",
    "    dataset,\n",
    "    increment=2,\n",
    "    initial_increment=2\n",
    ")\n",
    "\n",
    "print(f\"Number of classes: {scenario.nb_classes}.\")\n",
    "print(f\"Number of tasks: {scenario.nb_tasks}.\")\n",
    "\n",
    "all_datasets = dict()\n",
    "for task_id, train_taskset in enumerate(scenario):\n",
    "    all_datasets[task_id] = train_taskset\n",
    "\n",
    "train_taskset, val_taskset = split_train_val(all_datasets[0], val_split=0.1)\n",
    "train_loader = DataLoader(train_taskset, batch_size=100, shuffle=True)\n",
    "val_loader = DataLoader(val_taskset, batch_size=100, shuffle=True)\n",
    "\n"
   ]
  },
  {
   "cell_type": "code",
   "execution_count": 42,
   "id": "9fb8c2a1",
   "metadata": {},
   "outputs": [
    {
     "name": "stderr",
     "output_type": "stream",
     "text": [
      "C:\\Users\\xueho\\AppData\\Local\\Temp\\ipykernel_20020\\1860639731.py:4: FutureWarning: We've integrated functorch into PyTorch. As the final step of the integration, `functorch.make_functional` is deprecated as of PyTorch 2.0 and will be deleted in a future version of PyTorch >= 2.3. Please use `torch.func.functional_call` instead; see the PyTorch 2.0 release notes and/or the `torch.func` migration guide for more details https://pytorch.org/docs/main/func.migrating.html\n",
      "  fnet, params = make_functional(net)\n"
     ]
    }
   ],
   "source": [
    "layer_sizes = [32*32*3] + [100] * 3 + [1]\n",
    "net = NN(layer_sizes).to(DEVICE)\n",
    " \n",
    "fnet, params = make_functional(net)\n",
    "# if your net has buffers\n",
    "# fnet, params, buffers = make_functional_with_buffers(net)"
   ]
  },
  {
   "cell_type": "code",
   "execution_count": 6,
   "id": "a885e099",
   "metadata": {},
   "outputs": [],
   "source": [
    "def fnet_single(params, x): # For a single input x\n",
    "    return fnet(params, x.unsqueeze(0)).squeeze(0)\n",
    "\n",
    "def empirical_ntk(fnet_single, params, x1, x2, compute='trace'):\n",
    "    # Compute J(x1)\n",
    "    jac1 = vmap(jacrev(fnet_single), (None, 0))(params, x1)\n",
    "    jac1 = [j.flatten(2) for j in jac1]\n",
    "    \n",
    "    # Compute J(x2)\n",
    "    jac2 = vmap(jacrev(fnet_single), (None, 0))(params, x2)\n",
    "    jac2 = [j.flatten(2) for j in jac2]\n",
    "    \n",
    "    # Compute J(x1) @ J(x2).T\n",
    "    einsum_expr = None\n",
    "    if compute == 'full':\n",
    "        einsum_expr = 'Naf,Mbf->NMab'\n",
    "    elif compute == 'trace':\n",
    "        einsum_expr = 'Naf,Maf->NM'\n",
    "    elif compute == 'diagonal':\n",
    "        einsum_expr = 'Naf,Maf->NMa'\n",
    "    else:\n",
    "        assert False\n",
    "        \n",
    "    result = torch.stack([torch.einsum(einsum_expr, j1, j2) for j1, j2 in zip(jac1, jac2)])\n",
    "    result = result.sum(0)\n",
    "    return result"
   ]
  },
  {
   "cell_type": "code",
   "execution_count": 56,
   "id": "b1b9b7a8-8e1d-4166-b17b-d63d1e98d27c",
   "metadata": {},
   "outputs": [],
   "source": [
    "def train_task_i(i):\n",
    "\n",
    "    def cal_NTK(net,train_taskset,output_dim):\n",
    "        all_train_loader = DataLoader(train_taskset, batch_size=10000, shuffle=True)\n",
    "        all_train_data = next(iter(all_train_loader))[0].to(DEVICE) # torch.Size([9000, 3, 32, 32])\n",
    "        train_data_sub = next(iter(all_train_loader))[0][:output_dim,:,:,:].to(DEVICE) # torch.Size([output_dim, 3, 32, 32])\n",
    "        train_data_sub = train_data_sub.flatten(start_dim=1)\n",
    "        _, params= make_functional(net)\n",
    "        result = empirical_ntk(fnet_single, params, train_data_sub, train_data_sub, 'trace')\n",
    "        return result\n",
    "\n",
    "    train_taskset, val_taskset = split_train_val(all_datasets[i], val_split=0.1)\n",
    "    train_loader = DataLoader(train_taskset, batch_size=32, shuffle=True)\n",
    "    val_loader = DataLoader(val_taskset, batch_size=100, shuffle=True)\n",
    "\n",
    "    # Hyperparameters\n",
    "    output_dim = 50\n",
    "    num_epochs = 5\n",
    "    learning_rate = 1e-3\n",
    "    #beta = 0.5 # KL divergence scaling factor\n",
    "    all_NTK_mat = torch.zeros([num_epochs,output_dim,output_dim])\n",
    "\n",
    "    # Model, optimizer, and loss function\n",
    "    #net = CNN(input_dim, hidden_dim, output_dim).to(DEVICE)\n",
    "    optimizer = optim.Adam(net.parameters(), lr=learning_rate)\n",
    "    criterion = nn.CrossEntropyLoss()\n",
    "\n",
    "    # Training loop\n",
    "    for epoch in range(num_epochs):\n",
    "        net.train()\n",
    "        for x, y, t in train_loader:\n",
    "            # Forward pass\n",
    "            x_batch = torch.flatten(x,start_dim=1)\n",
    "            x_batch = x_batch.to(DEVICE)\n",
    "            #outputs = net(x_batch)\n",
    "            outputs = torch.sigmoid(net(x_batch))\n",
    "            target = (y-2*i).float()\n",
    "            nll_loss = criterion(outputs.flatten().cpu(), target)\n",
    "        \n",
    "            # Backward pass\n",
    "            optimizer.zero_grad()\n",
    "            nll_loss.backward()\n",
    "            optimizer.step()\n",
    "        \n",
    "        net.eval()\n",
    "        val_loss = 0\n",
    "        correct = 0\n",
    "        total = 0\n",
    "        with torch.no_grad():\n",
    "            all_NTK_mat[epoch] = cal_NTK(net,train_taskset,output_dim)\n",
    "            for X_val, y_val_batch, t in val_loader:\n",
    "                X_val_batch = torch.flatten(X_val,start_dim=1).to(DEVICE)\n",
    "                #X_val_batch = X_val.to(DEVICE)\n",
    "                #val_outputs = net(X_val_batch)\n",
    "                val_outputs = torch.sigmoid(net(X_val_batch)).cpu()\n",
    "                val_loss += criterion(val_outputs.flatten().cpu(), y_val_batch.float()).item()\n",
    "\n",
    "                predicted = (val_outputs>0.5).int() + 2*i\n",
    "                correct += (predicted.flatten() == y_val_batch.flatten()).sum().item()\n",
    "                total += y_val_batch.size(0)\n",
    "        val_accuracy = correct / total * 100\n",
    "        \n",
    "        print(f\"Epoch [{epoch+1}/{num_epochs}], Train Loss: {nll_loss.item():.4f}, Val Loss: {val_loss:.4f}, Val accuracy: {val_accuracy:.2f}%\")\n",
    "\n",
    "    print(f\"Training task {i} complete!\")\n",
    "    print(all_NTK_mat)\n",
    "    return all_NTK_mat"
   ]
  },
  {
   "cell_type": "code",
   "execution_count": 60,
   "id": "b0986e75",
   "metadata": {},
   "outputs": [
    {
     "name": "stderr",
     "output_type": "stream",
     "text": [
      "C:\\Users\\xueho\\AppData\\Local\\Temp\\ipykernel_20020\\858377327.py:8: FutureWarning: We've integrated functorch into PyTorch. As the final step of the integration, `functorch.make_functional` is deprecated as of PyTorch 2.0 and will be deleted in a future version of PyTorch >= 2.3. Please use `torch.func.functional_call` instead; see the PyTorch 2.0 release notes and/or the `torch.func` migration guide for more details https://pytorch.org/docs/main/func.migrating.html\n",
      "  _, params= make_functional(net)\n",
      "C:\\Users\\xueho\\AppData\\Local\\Temp\\ipykernel_20020\\1284363017.py:6: FutureWarning: We've integrated functorch into PyTorch. As the final step of the integration, `functorch.jacrev` is deprecated as of PyTorch 2.0 and will be deleted in a future version of PyTorch >= 2.3. Please use `torch.func.jacrev` instead; see the PyTorch 2.0 release notes and/or the `torch.func` migration guide for more details https://pytorch.org/docs/main/func.migrating.html\n",
      "  jac1 = vmap(jacrev(fnet_single), (None, 0))(params, x1)\n",
      "C:\\Users\\xueho\\AppData\\Local\\Temp\\ipykernel_20020\\1284363017.py:6: FutureWarning: We've integrated functorch into PyTorch. As the final step of the integration, `functorch.vmap` is deprecated as of PyTorch 2.0 and will be deleted in a future version of PyTorch >= 2.3. Please use `torch.vmap` instead; see the PyTorch 2.0 release notes and/or the `torch.func` migration guide for more details https://pytorch.org/docs/main/func.migrating.html\n",
      "  jac1 = vmap(jacrev(fnet_single), (None, 0))(params, x1)\n",
      "C:\\Users\\xueho\\AppData\\Local\\Temp\\ipykernel_20020\\1284363017.py:10: FutureWarning: We've integrated functorch into PyTorch. As the final step of the integration, `functorch.jacrev` is deprecated as of PyTorch 2.0 and will be deleted in a future version of PyTorch >= 2.3. Please use `torch.func.jacrev` instead; see the PyTorch 2.0 release notes and/or the `torch.func` migration guide for more details https://pytorch.org/docs/main/func.migrating.html\n",
      "  jac2 = vmap(jacrev(fnet_single), (None, 0))(params, x2)\n",
      "C:\\Users\\xueho\\AppData\\Local\\Temp\\ipykernel_20020\\1284363017.py:10: FutureWarning: We've integrated functorch into PyTorch. As the final step of the integration, `functorch.vmap` is deprecated as of PyTorch 2.0 and will be deleted in a future version of PyTorch >= 2.3. Please use `torch.vmap` instead; see the PyTorch 2.0 release notes and/or the `torch.func` migration guide for more details https://pytorch.org/docs/main/func.migrating.html\n",
      "  jac2 = vmap(jacrev(fnet_single), (None, 0))(params, x2)\n"
     ]
    },
    {
     "name": "stdout",
     "output_type": "stream",
     "text": [
      "Epoch [1/5], Train Loss: 5.8465, Val Loss: 2207.7126, Val accuracy: 81.10%\n",
      "Epoch [2/5], Train Loss: 3.5000, Val Loss: 2201.8943, Val accuracy: 82.00%\n",
      "Epoch [3/5], Train Loss: 9.2973, Val Loss: 2202.1586, Val accuracy: 82.10%\n",
      "Epoch [4/5], Train Loss: 7.5481, Val Loss: 2200.3241, Val accuracy: 81.80%\n",
      "Epoch [5/5], Train Loss: 5.2092, Val Loss: 2204.2340, Val accuracy: 80.90%\n",
      "Training task 0 complete!\n",
      "Epoch [1/5], Train Loss: 3.7442, Val Loss: 11688.7604, Val accuracy: 71.70%\n",
      "Epoch [2/5], Train Loss: 12.8234, Val Loss: 11688.2273, Val accuracy: 70.70%\n",
      "Epoch [3/5], Train Loss: 5.2606, Val Loss: 11694.4204, Val accuracy: 72.40%\n",
      "Epoch [4/5], Train Loss: 12.2853, Val Loss: 11695.5951, Val accuracy: 72.50%\n",
      "Epoch [5/5], Train Loss: 10.7688, Val Loss: 11692.8782, Val accuracy: 72.50%\n",
      "Training task 1 complete!\n",
      "Epoch [1/5], Train Loss: 12.0573, Val Loss: 21144.1008, Val accuracy: 74.10%\n",
      "Epoch [2/5], Train Loss: 14.0698, Val Loss: 21148.9019, Val accuracy: 75.70%\n",
      "Epoch [3/5], Train Loss: 9.4402, Val Loss: 21141.4644, Val accuracy: 75.00%\n",
      "Epoch [4/5], Train Loss: 13.2676, Val Loss: 21143.5464, Val accuracy: 75.90%\n",
      "Epoch [5/5], Train Loss: 1.5758, Val Loss: 21146.9915, Val accuracy: 75.50%\n",
      "Training task 2 complete!\n",
      "Epoch [1/5], Train Loss: 10.4842, Val Loss: 30396.5845, Val accuracy: 73.50%\n",
      "Epoch [2/5], Train Loss: 5.8910, Val Loss: 30365.2595, Val accuracy: 74.50%\n",
      "Epoch [3/5], Train Loss: 10.4423, Val Loss: 30370.0181, Val accuracy: 75.80%\n",
      "Epoch [4/5], Train Loss: 3.4086, Val Loss: 30370.6865, Val accuracy: 77.40%\n",
      "Epoch [5/5], Train Loss: 10.1886, Val Loss: 30382.4719, Val accuracy: 76.60%\n",
      "Training task 3 complete!\n",
      "Epoch [1/5], Train Loss: 5.7179, Val Loss: 39748.8784, Val accuracy: 77.70%\n",
      "Epoch [2/5], Train Loss: 9.3761, Val Loss: 39812.8296, Val accuracy: 79.60%\n",
      "Epoch [3/5], Train Loss: 1.3263, Val Loss: 39767.4990, Val accuracy: 79.30%\n",
      "Epoch [4/5], Train Loss: 7.4771, Val Loss: 39808.7317, Val accuracy: 79.50%\n",
      "Epoch [5/5], Train Loss: 11.6345, Val Loss: 39778.5352, Val accuracy: 78.70%\n",
      "Training task 4 complete!\n"
     ]
    }
   ],
   "source": [
    "num_tasks = 5\n",
    "ntk = []\n",
    "for i in range(num_tasks):\n",
    "    ntk.append(train_task_i(i))"
   ]
  },
  {
   "cell_type": "code",
   "execution_count": 61,
   "id": "63478c80",
   "metadata": {},
   "outputs": [
    {
     "data": {
      "text/plain": [
       "[None, None, None, None, None]"
      ]
     },
     "execution_count": 61,
     "metadata": {},
     "output_type": "execute_result"
    }
   ],
   "source": [
    "ntk"
   ]
  },
  {
   "cell_type": "code",
   "execution_count": 48,
   "id": "c97a5acb-0a5d-4cca-8111-9f792e82bda3",
   "metadata": {},
   "outputs": [
    {
     "data": {
      "text/plain": [
       "[<matplotlib.lines.Line2D at 0x18bcfac76d0>]"
      ]
     },
     "execution_count": 48,
     "metadata": {},
     "output_type": "execute_result"
    },
    {
     "data": {
      "image/png": "[encoded data removed]",
      "text/plain": [
       "<Figure size 640x480 with 1 Axes>"
      ]
     },
     "metadata": {},
     "output_type": "display_data"
    }
   ],
   "source": [
    "# Plot eigenvalues\n",
    "a = torch.linalg.eigvals(all_NTK_mat)\n",
    "max_eig = []\n",
    "min_eig = []\n",
    "for i in range(all_NTK_mat.shape[0]):\n",
    "    max_eig.append(abs(a[i][0].item()))\n",
    "    min_eig.append(abs(a[i][-1].item()))\n",
    "    import matplotlib.pyplot as plt\n",
    "plt.plot(min_eig)\n",
    "plt.plot(max_eig)"
   ]
  },
  {
   "cell_type": "code",
   "execution_count": null,
   "id": "79779acd-ca87-44a3-887e-08f6c1365d0c",
   "metadata": {},
   "outputs": [],
   "source": [
    "ntk_result = empirical_ntk(fnet_single, params, x, x, 'trace')\n",
    "print(ntk_result.shape)\n",
    "# Compute eigenvalues\n",
    "lambda_K, eigvec_K = np.linalg.eig(ntk_result.detach().cpu().numpy())\n",
    " \n",
    "# Sort in descresing order\n",
    "lambda_K = np.sort(np.real(lambda_K))[::-1]\n",
    "# Visualize the eigenvectors of the NTK\n",
    "fig, axs= plt.subplots(2, 3, figsize=(12, 6))\n",
    "X = np.linspace(0, 1, len(x))\n",
    "axs[0, 0].plot(X, np.real(eigvec_K[:,0]))\n",
    "axs[0, 1].plot(X, np.real(eigvec_K[:,1]))\n",
    "axs[0, 2].plot(X, np.real(eigvec_K[:,2]))\n",
    "axs[1, 0].plot(X, np.real(eigvec_K[:,3]))\n",
    "axs[1, 1].plot(X, np.real(eigvec_K[:,4]))\n",
    "axs[1, 2].plot(X, np.real(eigvec_K[:,5]))\n",
    "plt.show()\n",
    " \n",
    "# Visualize the eigenvalues of the NTK\n",
    "fig, ax = plt.subplots(figsize=(6, 5))\n",
    "ax.plot(lambda_K)\n",
    "plt.xscale('log')\n",
    "plt.yscale('log')\n",
    "ax.set_xlabel('index')\n",
    "ax.set_ylabel(r'$\\lambda$') \n",
    "plt.show()"
   ]
  }
 ],
 "metadata": {
  "kernelspec": {
   "display_name": "Python 3",
   "language": "python",
   "name": "python3"
  },
  "language_info": {
   "codemirror_mode": {
    "name": "ipython",
    "version": 3
   },
   "file_extension": ".py",
   "mimetype": "text/x-python",
   "name": "python",
   "nbconvert_exporter": "python",
   "pygments_lexer": "ipython3",
   "version": "3.11.9"
  }
 },
 "nbformat": 4,
 "nbformat_minor": 5
}
