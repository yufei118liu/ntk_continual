{
 "cells": [
  {
   "cell_type": "code",
   "execution_count": 1,
   "id": "e8cd18ddf5ff2dba",
   "metadata": {
    "collapsed": false,
    "jupyter": {
     "outputs_hidden": false
    }
   },
   "outputs": [
    {
     "name": "stderr",
     "output_type": "stream",
     "text": [
      "/home/zirzhang/jupyter/lib/python3.12/site-packages/tqdm/auto.py:21: TqdmWarning: IProgress not found. Please update jupyter and ipywidgets. See https://ipywidgets.readthedocs.io/en/stable/user_install.html\n",
      "  from .autonotebook import tqdm as notebook_tqdm\n"
     ]
    }
   ],
   "source": [
    "import torch \n",
    "import torch.nn as nn\n",
    "import torch.optim as optim\n",
    "from functorch import make_functional, vmap, vjp, jvp, jacrev, make_functional_with_buffers\n",
    "from continuum import ClassIncremental\n",
    "from continuum.datasets import CIFAR10\n",
    "from continuum.tasks import split_train_val\n",
    "from torch.utils.data import DataLoader\n",
    "import warnings\n",
    "warnings.filterwarnings(\"ignore\")\n",
    "DEVICE = \"cuda\""
   ]
  },
  {
   "cell_type": "code",
   "execution_count": 2,
   "id": "initial_id",
   "metadata": {
    "ExecuteTime": {
     "end_time": "2025-01-16T15:08:01.067123500Z",
     "start_time": "2025-01-16T15:08:01.030154400Z"
    },
    "collapsed": false,
    "jupyter": {
     "outputs_hidden": false
    }
   },
   "outputs": [],
   "source": [
    "class CNN(nn.Module):\n",
    "    def __init__(self, input_dim, hidden_dim, output_dim):\n",
    "        super(CNN, self).__init__()\n",
    "        self.conv_layer1 = torch.nn.Sequential(\n",
    "            torch.nn.Conv2d(input_dim, 32, kernel_size=5),\n",
    "            # torch.nn.BatchNorm2d(32),\n",
    "            torch.nn.ReLU(),\n",
    "        )\n",
    "        self.conv_layer2 = torch.nn.Sequential(\n",
    "            torch.nn.Conv2d(32, 32, kernel_size=3),\n",
    "            # torch.nn.BatchNorm2d(32),\n",
    "            torch.nn.ReLU(),\n",
    "        )\n",
    "        self.pool1 = torch.nn.MaxPool2d((2, 2), stride=(2, 2))\n",
    "        self.conv_layer3 = torch.nn.Sequential(\n",
    "            torch.nn.Conv2d(32, 64, kernel_size=3),\n",
    "            # torch.nn.BatchNorm2d(64),\n",
    "            torch.nn.ReLU(),\n",
    "        )\n",
    "        self.conv_layer4 = torch.nn.Sequential(\n",
    "            torch.nn.Conv2d(64, 64, kernel_size=3),\n",
    "            # torch.nn.BatchNorm2d(64),\n",
    "            torch.nn.ReLU(),\n",
    "        )\n",
    "        self.layer1 = nn.Linear(64*9*9, hidden_dim)\n",
    "        self.layer2 = nn.Linear(hidden_dim, hidden_dim)\n",
    "        self.output_layer = nn.Linear(hidden_dim, output_dim)\n",
    "\n",
    "    def forward(self, x):\n",
    "        x = self.conv_layer1(x)\n",
    "        x = self.conv_layer2(x)\n",
    "        x = self.pool1(x)\n",
    "        x = self.conv_layer3(x)\n",
    "        x = torch.flatten(self.conv_layer4(x),start_dim=1)\n",
    "        x = torch.relu(self.layer1(x))\n",
    "        x = torch.relu(self.layer2(x))\n",
    "        x = self.output_layer(x)\n",
    "        return x"
   ]
  },
  {
   "cell_type": "code",
   "execution_count": 3,
   "id": "ac2fe0d5cefaca2d",
   "metadata": {
    "ExecuteTime": {
     "end_time": "2025-01-16T15:08:04.062101700Z",
     "start_time": "2025-01-16T15:08:03.302216100Z"
    },
    "collapsed": false,
    "jupyter": {
     "outputs_hidden": false
    }
   },
   "outputs": [
    {
     "name": "stdout",
     "output_type": "stream",
     "text": [
      "Files already downloaded and verified\n"
     ]
    }
   ],
   "source": [
    "dataset = CIFAR10(\"Datasets/CIFAR10/\", download=True, train=True) # Change download to True "
   ]
  },
  {
   "cell_type": "code",
   "execution_count": 4,
   "id": "a52df2ea31da5d73",
   "metadata": {
    "ExecuteTime": {
     "end_time": "2025-01-16T15:08:04.190482500Z",
     "start_time": "2025-01-16T15:08:04.066061200Z"
    },
    "collapsed": false,
    "jupyter": {
     "outputs_hidden": false
    }
   },
   "outputs": [
    {
     "name": "stdout",
     "output_type": "stream",
     "text": [
      "Number of classes: 10.\n",
      "Number of tasks: 5.\n"
     ]
    }
   ],
   "source": [
    "scenario = ClassIncremental(\n",
    "    dataset,\n",
    "    increment=2,\n",
    "    initial_increment=2\n",
    ")\n",
    "print(f\"Number of classes: {scenario.nb_classes}.\")\n",
    "print(f\"Number of tasks: {scenario.nb_tasks}.\")"
   ]
  },
  {
   "cell_type": "code",
   "execution_count": 5,
   "id": "8cf7c41ce8fb3c84",
   "metadata": {
    "ExecuteTime": {
     "end_time": "2025-01-16T15:08:04.901899200Z",
     "start_time": "2025-01-16T15:08:04.813939300Z"
    },
    "collapsed": false,
    "jupyter": {
     "outputs_hidden": false
    }
   },
   "outputs": [],
   "source": [
    "all_datasets = dict()\n",
    "for task_id, train_taskset in enumerate(scenario):\n",
    "    all_datasets[task_id] = train_taskset"
   ]
  },
  {
   "cell_type": "code",
   "execution_count": 6,
   "id": "ff192b3e916e082c",
   "metadata": {
    "ExecuteTime": {
     "end_time": "2025-01-16T15:08:33.021172Z",
     "start_time": "2025-01-16T15:08:30.689506200Z"
    },
    "collapsed": false,
    "jupyter": {
     "outputs_hidden": false
    }
   },
   "outputs": [],
   "source": [
    "train_taskset, val_taskset = split_train_val(all_datasets[0], val_split=0.1)\n",
    "train_loader = DataLoader(train_taskset, batch_size=100, shuffle=True)\n",
    "val_loader = DataLoader(val_taskset, batch_size=100, shuffle=True)\n",
    "all_train_loader = DataLoader(train_taskset, batch_size=10000, shuffle=True)\n",
    "all_train_data = next(iter(all_train_loader))[0].to(DEVICE)\n",
    "train_data_100 = next(iter(all_train_loader))[0][:10,:,:,:].to(DEVICE)"
   ]
  },
  {
   "cell_type": "code",
   "execution_count": 7,
   "id": "791094f1-ae4a-4fa7-b1cc-16c0cea33115",
   "metadata": {},
   "outputs": [
    {
     "data": {
      "text/plain": [
       "torch.Size([10, 3, 32, 32])"
      ]
     },
     "execution_count": 7,
     "metadata": {},
     "output_type": "execute_result"
    }
   ],
   "source": [
    "train_data_100.shape"
   ]
  },
  {
   "cell_type": "code",
   "execution_count": 8,
   "id": "83ffa708b79bf268",
   "metadata": {
    "ExecuteTime": {
     "end_time": "2025-01-16T15:08:34.280644800Z",
     "start_time": "2025-01-16T15:08:34.216965300Z"
    },
    "collapsed": false,
    "jupyter": {
     "outputs_hidden": false
    }
   },
   "outputs": [],
   "source": [
    "net = CNN(input_dim=3, hidden_dim = 1000, output_dim=10).to(DEVICE)\n",
    "fnet, params= make_functional(net)"
   ]
  },
  {
   "cell_type": "code",
   "execution_count": 9,
   "id": "b2c0952216c7f637",
   "metadata": {
    "ExecuteTime": {
     "end_time": "2025-01-16T15:08:34.576159200Z",
     "start_time": "2025-01-16T15:08:34.556023400Z"
    },
    "collapsed": false,
    "jupyter": {
     "outputs_hidden": false
    }
   },
   "outputs": [],
   "source": [
    "def fnet_single(params, x):\n",
    "    return fnet(params, x.unsqueeze(0)).squeeze(0)"
   ]
  },
  {
   "cell_type": "code",
   "execution_count": 10,
   "id": "3ab5250c138530da",
   "metadata": {
    "ExecuteTime": {
     "end_time": "2025-01-16T15:08:34.872530900Z",
     "start_time": "2025-01-16T15:08:34.855625500Z"
    },
    "collapsed": false,
    "jupyter": {
     "outputs_hidden": false
    }
   },
   "outputs": [],
   "source": [
    "def empirical_ntk_jacobian_contraction(fnet_single, params, x1, x2):\n",
    "    # Compute J(x1)\n",
    "    jac1 = vmap(jacrev(fnet_single), (None, 0))(params, x1)\n",
    "    jac1 = [j.flatten(2) for j in jac1]\n",
    "\n",
    "    # Compute J(x2)\n",
    "    jac2 = vmap(jacrev(fnet_single), (None, 0))(params, x2)\n",
    "    jac2 = [j.flatten(2) for j in jac2]\n",
    "\n",
    "    # Compute J(x1) @ J(x2).T\n",
    "    result = torch.stack([torch.einsum('Naf,Mbf->NMab', j1, j2) for j1, j2 in zip(jac1, jac2)])\n",
    "    result = result.sum(0)\n",
    "    return result"
   ]
  },
  {
   "cell_type": "code",
   "execution_count": 11,
   "id": "f13618f64b14a84b",
   "metadata": {
    "ExecuteTime": {
     "end_time": "2025-01-16T15:08:37.734989900Z",
     "start_time": "2025-01-16T15:08:35.379769700Z"
    },
    "collapsed": false,
    "jupyter": {
     "outputs_hidden": false
    }
   },
   "outputs": [],
   "source": [
    "# result = empirical_ntk_jacobian_contraction(fnet_single, params, train_data_100, train_data_100)\n",
    "# print(result.shape)"
   ]
  },
  {
   "cell_type": "code",
   "execution_count": 12,
   "id": "43a8388bf06387f5",
   "metadata": {
    "collapsed": false,
    "jupyter": {
     "outputs_hidden": false
    }
   },
   "outputs": [],
   "source": [
    "def empirical_ntk_jacobian_contraction(fnet_single, params, x1, x2, compute='full'):\n",
    "    # Compute J(x1)\n",
    "    jac1 = vmap(jacrev(fnet_single), (None, 0))(params, x1)\n",
    "    jac1 = [j.flatten(2) for j in jac1]\n",
    "\n",
    "    # Compute J(x2)\n",
    "    jac2 = vmap(jacrev(fnet_single), (None, 0))(params, x2)\n",
    "    jac2 = [j.flatten(2) for j in jac2]\n",
    "\n",
    "    # Compute J(x1) @ J(x2).T\n",
    "    einsum_expr = None\n",
    "    if compute == 'full':\n",
    "        einsum_expr = 'Naf,Mbf->NMab'\n",
    "    elif compute == 'trace':\n",
    "        einsum_expr = 'Naf,Maf->NM'\n",
    "    elif compute == 'diagonal':\n",
    "        einsum_expr = 'Naf,Maf->NMa'\n",
    "    else:\n",
    "        assert False\n",
    "\n",
    "    result = torch.stack([torch.einsum(einsum_expr, j1, j2) for j1, j2 in zip(jac1, jac2)])\n",
    "    result = result.sum(0)\n",
    "    return result"
   ]
  },
  {
   "cell_type": "code",
   "execution_count": 13,
   "id": "f368111a-23b1-4780-9796-e5f4a1e0ee68",
   "metadata": {},
   "outputs": [
    {
     "name": "stdout",
     "output_type": "stream",
     "text": [
      "torch.Size([10, 10])\n"
     ]
    }
   ],
   "source": [
    "result = empirical_ntk_jacobian_contraction(fnet_single, params, train_data_100, train_data_100, 'trace')\n",
    "print(result.shape)"
   ]
  },
  {
   "cell_type": "code",
   "execution_count": 16,
   "id": "0a744e62-73e0-49bd-9578-fe301f983462",
   "metadata": {},
   "outputs": [],
   "source": [
    "def cal_NTK(net, data1, data2):\n",
    "    fnet, params= make_functional(net)\n",
    "    result = empirical_ntk_jacobian_contraction(fnet_single, params, train_data_100, train_data_100, 'trace')\n",
    "    return result"
   ]
  },
  {
   "cell_type": "code",
   "execution_count": 58,
   "id": "b1b9b7a8-8e1d-4166-b17b-d63d1e98d27c",
   "metadata": {},
   "outputs": [
    {
     "name": "stdout",
     "output_type": "stream",
     "text": [
      "Epoch [1/100], Train Loss: 0.4248, Val Loss: 4.3814, Val accuracy: 81.70%\n",
      "Epoch [2/100], Train Loss: 0.3317, Val Loss: 2.8001, Val accuracy: 87.60%\n",
      "Epoch [3/100], Train Loss: 0.2183, Val Loss: 2.5104, Val accuracy: 90.70%\n",
      "Epoch [4/100], Train Loss: 0.1742, Val Loss: 1.9997, Val accuracy: 92.10%\n",
      "Epoch [5/100], Train Loss: 0.2998, Val Loss: 1.9811, Val accuracy: 91.70%\n",
      "Epoch [6/100], Train Loss: 0.1622, Val Loss: 2.3829, Val accuracy: 90.60%\n",
      "Epoch [7/100], Train Loss: 0.1597, Val Loss: 1.6841, Val accuracy: 93.20%\n",
      "Epoch [8/100], Train Loss: 0.1151, Val Loss: 1.7546, Val accuracy: 93.20%\n",
      "Epoch [9/100], Train Loss: 0.1614, Val Loss: 2.4123, Val accuracy: 91.50%\n",
      "Epoch [10/100], Train Loss: 0.1595, Val Loss: 1.8433, Val accuracy: 93.00%\n",
      "Epoch [11/100], Train Loss: 0.0357, Val Loss: 1.7808, Val accuracy: 93.70%\n",
      "Epoch [12/100], Train Loss: 0.0838, Val Loss: 1.8898, Val accuracy: 93.60%\n",
      "Epoch [13/100], Train Loss: 0.0503, Val Loss: 1.9892, Val accuracy: 94.10%\n",
      "Epoch [14/100], Train Loss: 0.0400, Val Loss: 1.7803, Val accuracy: 93.70%\n",
      "Epoch [15/100], Train Loss: 0.0507, Val Loss: 1.9921, Val accuracy: 93.80%\n",
      "Epoch [16/100], Train Loss: 0.0148, Val Loss: 1.8654, Val accuracy: 93.90%\n",
      "Epoch [17/100], Train Loss: 0.0133, Val Loss: 1.7662, Val accuracy: 93.90%\n",
      "Epoch [18/100], Train Loss: 0.0187, Val Loss: 2.1960, Val accuracy: 93.60%\n",
      "Epoch [19/100], Train Loss: 0.0038, Val Loss: 2.2726, Val accuracy: 94.40%\n",
      "Epoch [20/100], Train Loss: 0.0050, Val Loss: 2.2607, Val accuracy: 94.70%\n",
      "Epoch [21/100], Train Loss: 0.0083, Val Loss: 2.5193, Val accuracy: 94.80%\n",
      "Epoch [22/100], Train Loss: 0.0161, Val Loss: 2.6477, Val accuracy: 93.90%\n",
      "Epoch [23/100], Train Loss: 0.0054, Val Loss: 2.6454, Val accuracy: 94.70%\n",
      "Epoch [24/100], Train Loss: 0.0382, Val Loss: 2.7086, Val accuracy: 93.70%\n",
      "Epoch [25/100], Train Loss: 0.0009, Val Loss: 2.6377, Val accuracy: 94.20%\n",
      "Epoch [26/100], Train Loss: 0.0039, Val Loss: 2.6052, Val accuracy: 94.20%\n",
      "Epoch [27/100], Train Loss: 0.0003, Val Loss: 2.5663, Val accuracy: 94.90%\n",
      "Epoch [28/100], Train Loss: 0.0002, Val Loss: 2.6708, Val accuracy: 95.00%\n",
      "Epoch [29/100], Train Loss: 0.0002, Val Loss: 2.7416, Val accuracy: 94.80%\n",
      "Epoch [30/100], Train Loss: 0.0002, Val Loss: 2.8066, Val accuracy: 94.70%\n",
      "Epoch [31/100], Train Loss: 0.0002, Val Loss: 2.8620, Val accuracy: 94.70%\n",
      "Epoch [32/100], Train Loss: 0.0001, Val Loss: 2.9142, Val accuracy: 94.60%\n",
      "Epoch [33/100], Train Loss: 0.0001, Val Loss: 2.9630, Val accuracy: 94.60%\n",
      "Epoch [34/100], Train Loss: 0.0001, Val Loss: 3.0118, Val accuracy: 94.60%\n",
      "Epoch [35/100], Train Loss: 0.0000, Val Loss: 3.0544, Val accuracy: 94.60%\n",
      "Epoch [36/100], Train Loss: 0.0001, Val Loss: 3.0988, Val accuracy: 94.80%\n",
      "Epoch [37/100], Train Loss: 0.0001, Val Loss: 3.1435, Val accuracy: 94.60%\n",
      "Epoch [38/100], Train Loss: 0.0001, Val Loss: 3.1868, Val accuracy: 94.70%\n",
      "Epoch [39/100], Train Loss: 0.0000, Val Loss: 3.2344, Val accuracy: 94.70%\n",
      "Epoch [40/100], Train Loss: 0.0000, Val Loss: 3.2707, Val accuracy: 94.70%\n",
      "Epoch [41/100], Train Loss: 0.0000, Val Loss: 3.3120, Val accuracy: 94.60%\n",
      "Epoch [42/100], Train Loss: 0.0000, Val Loss: 3.3496, Val accuracy: 94.60%\n",
      "Epoch [43/100], Train Loss: 0.0000, Val Loss: 3.3907, Val accuracy: 94.60%\n",
      "Epoch [44/100], Train Loss: 0.0000, Val Loss: 3.4391, Val accuracy: 94.70%\n",
      "Epoch [45/100], Train Loss: 0.0000, Val Loss: 3.4769, Val accuracy: 94.70%\n",
      "Epoch [46/100], Train Loss: 0.0000, Val Loss: 3.5083, Val accuracy: 94.70%\n",
      "Epoch [47/100], Train Loss: 0.0000, Val Loss: 3.5507, Val accuracy: 94.70%\n",
      "Epoch [48/100], Train Loss: 0.0000, Val Loss: 3.5913, Val accuracy: 94.70%\n",
      "Epoch [49/100], Train Loss: 0.0000, Val Loss: 3.6292, Val accuracy: 94.70%\n",
      "Epoch [50/100], Train Loss: 0.0000, Val Loss: 3.6612, Val accuracy: 94.70%\n",
      "Epoch [51/100], Train Loss: 0.0000, Val Loss: 3.7035, Val accuracy: 94.70%\n",
      "Epoch [52/100], Train Loss: 0.0000, Val Loss: 3.7333, Val accuracy: 94.70%\n",
      "Epoch [53/100], Train Loss: 0.0000, Val Loss: 3.7726, Val accuracy: 94.70%\n",
      "Epoch [54/100], Train Loss: 0.0000, Val Loss: 3.8066, Val accuracy: 94.70%\n",
      "Epoch [55/100], Train Loss: 0.0000, Val Loss: 3.8422, Val accuracy: 94.70%\n",
      "Epoch [56/100], Train Loss: 0.0000, Val Loss: 3.8766, Val accuracy: 94.70%\n",
      "Epoch [57/100], Train Loss: 0.0000, Val Loss: 3.9070, Val accuracy: 94.80%\n",
      "Epoch [58/100], Train Loss: 0.0000, Val Loss: 3.9434, Val accuracy: 94.70%\n",
      "Epoch [59/100], Train Loss: 0.0000, Val Loss: 3.9731, Val accuracy: 94.70%\n",
      "Epoch [60/100], Train Loss: 0.0000, Val Loss: 4.0088, Val accuracy: 94.70%\n",
      "Epoch [61/100], Train Loss: 0.0000, Val Loss: 4.0472, Val accuracy: 94.60%\n",
      "Epoch [62/100], Train Loss: 0.0000, Val Loss: 4.0736, Val accuracy: 94.70%\n",
      "Epoch [63/100], Train Loss: 0.0000, Val Loss: 4.1089, Val accuracy: 94.70%\n",
      "Epoch [64/100], Train Loss: 0.0000, Val Loss: 4.1411, Val accuracy: 94.70%\n",
      "Epoch [65/100], Train Loss: 0.0000, Val Loss: 4.1677, Val accuracy: 94.70%\n",
      "Epoch [66/100], Train Loss: 0.0000, Val Loss: 4.1944, Val accuracy: 94.70%\n",
      "Epoch [67/100], Train Loss: 0.0000, Val Loss: 4.2289, Val accuracy: 94.70%\n",
      "Epoch [68/100], Train Loss: 0.0000, Val Loss: 4.2594, Val accuracy: 94.70%\n",
      "Epoch [69/100], Train Loss: 0.0000, Val Loss: 4.2848, Val accuracy: 94.70%\n",
      "Epoch [70/100], Train Loss: 0.0000, Val Loss: 4.3120, Val accuracy: 94.70%\n",
      "Epoch [71/100], Train Loss: 0.0000, Val Loss: 4.3497, Val accuracy: 94.70%\n",
      "Epoch [72/100], Train Loss: 0.0000, Val Loss: 4.3759, Val accuracy: 94.70%\n",
      "Epoch [73/100], Train Loss: 0.0000, Val Loss: 4.4034, Val accuracy: 94.70%\n",
      "Epoch [74/100], Train Loss: 0.0000, Val Loss: 4.4326, Val accuracy: 94.70%\n",
      "Epoch [75/100], Train Loss: 0.0000, Val Loss: 4.4643, Val accuracy: 94.70%\n",
      "Epoch [76/100], Train Loss: 0.0000, Val Loss: 4.4876, Val accuracy: 94.70%\n",
      "Epoch [77/100], Train Loss: 0.0000, Val Loss: 4.5189, Val accuracy: 94.70%\n",
      "Epoch [78/100], Train Loss: 0.0000, Val Loss: 4.5462, Val accuracy: 94.70%\n",
      "Epoch [79/100], Train Loss: 0.0000, Val Loss: 4.5732, Val accuracy: 94.70%\n",
      "Epoch [80/100], Train Loss: 0.0000, Val Loss: 4.6025, Val accuracy: 94.70%\n",
      "Epoch [81/100], Train Loss: 0.0000, Val Loss: 4.6284, Val accuracy: 94.70%\n",
      "Epoch [82/100], Train Loss: 0.0000, Val Loss: 4.6501, Val accuracy: 94.70%\n",
      "Epoch [83/100], Train Loss: 0.0000, Val Loss: 4.6835, Val accuracy: 94.70%\n",
      "Epoch [84/100], Train Loss: 0.0000, Val Loss: 4.7105, Val accuracy: 94.70%\n",
      "Epoch [85/100], Train Loss: 0.0000, Val Loss: 4.7371, Val accuracy: 94.70%\n",
      "Epoch [86/100], Train Loss: 0.0000, Val Loss: 4.7622, Val accuracy: 94.70%\n",
      "Epoch [87/100], Train Loss: 0.0000, Val Loss: 4.7894, Val accuracy: 94.70%\n",
      "Epoch [88/100], Train Loss: 0.0000, Val Loss: 4.8093, Val accuracy: 94.70%\n",
      "Epoch [89/100], Train Loss: 0.0000, Val Loss: 4.8406, Val accuracy: 94.70%\n",
      "Epoch [90/100], Train Loss: 0.0000, Val Loss: 4.8652, Val accuracy: 94.70%\n",
      "Epoch [91/100], Train Loss: 0.0000, Val Loss: 4.8936, Val accuracy: 94.70%\n",
      "Epoch [92/100], Train Loss: 0.0000, Val Loss: 4.9173, Val accuracy: 94.70%\n",
      "Epoch [93/100], Train Loss: 0.0000, Val Loss: 4.9423, Val accuracy: 94.70%\n",
      "Epoch [94/100], Train Loss: 0.0000, Val Loss: 4.9667, Val accuracy: 94.70%\n",
      "Epoch [95/100], Train Loss: 0.0000, Val Loss: 4.9891, Val accuracy: 94.70%\n",
      "Epoch [96/100], Train Loss: 0.0000, Val Loss: 5.0194, Val accuracy: 94.70%\n",
      "Epoch [97/100], Train Loss: 0.0000, Val Loss: 5.0447, Val accuracy: 94.70%\n",
      "Epoch [98/100], Train Loss: 0.0000, Val Loss: 5.0656, Val accuracy: 94.70%\n",
      "Epoch [99/100], Train Loss: 0.0000, Val Loss: 5.0927, Val accuracy: 94.70%\n",
      "Epoch [100/100], Train Loss: 0.0000, Val Loss: 5.1183, Val accuracy: 94.70%\n",
      "Training complete!\n"
     ]
    }
   ],
   "source": [
    "train_taskset, val_taskset = split_train_val(all_datasets[0], val_split=0.1)\n",
    "train_loader = DataLoader(train_taskset, batch_size=100, shuffle=True)\n",
    "val_loader = DataLoader(val_taskset, batch_size=100, shuffle=True)\n",
    "\n",
    "# Hyperparameters\n",
    "input_dim = 3\n",
    "hidden_dim = 1000\n",
    "output_dim = 10\n",
    "num_epochs = 100\n",
    "batch_size = 100\n",
    "learning_rate = 3e-4\n",
    "beta = 0.5 # KL divergence scaling factor\n",
    "all_NTK_mat = torch.zeros([num_epochs,output_dim,output_dim])\n",
    "\n",
    "# Model, optimizer, and loss function\n",
    "bnn = CNN(input_dim, hidden_dim, output_dim).to(DEVICE)\n",
    "optimizer = optim.Adam(bnn.parameters(), lr=learning_rate)\n",
    "criterion = nn.CrossEntropyLoss()\n",
    "\n",
    "# Training loop\n",
    "for epoch in range(num_epochs):\n",
    "    bnn.train()\n",
    "    for x, y, t in train_loader:\n",
    "        # Forward pass\n",
    "        # x_batch = torch.flatten(x,start_dim=1).to(DEVICE)\n",
    "        x_batch = x.to(DEVICE)\n",
    "        outputs = bnn(x_batch.to(DEVICE))\n",
    "        nll_loss = criterion(outputs, y.to(DEVICE))\n",
    "        \n",
    "        # Backward pass\n",
    "        optimizer.zero_grad()\n",
    "        nll_loss.backward()\n",
    "        optimizer.step()\n",
    "        \n",
    "    bnn.eval()\n",
    "    val_loss = 0\n",
    "    correct = 0\n",
    "    total = 0\n",
    "    with torch.no_grad():\n",
    "        all_NTK_mat[epoch] = cal_NTK(bnn, train_data_100, train_data_100)\n",
    "        for X_val, y_val_batch, t in val_loader:\n",
    "            # X_val_batch = torch.flatten(X_val,start_dim=1).to(DEVICE)\n",
    "            X_val_batch = X_val.to(DEVICE)\n",
    "            val_outputs = bnn(X_val_batch)\n",
    "            val_loss += criterion(val_outputs, y_val_batch.to(DEVICE)).item()\n",
    "            predicted = torch.argmax(val_outputs, dim=1)  # Get predicted class\n",
    "            correct += (predicted == y_val_batch.to(DEVICE)).sum().item()\n",
    "            total += y_val_batch.size(0)\n",
    "\n",
    "    val_accuracy = correct / total * 100\n",
    "        \n",
    "    print(f\"Epoch [{epoch+1}/{num_epochs}], Train Loss: {nll_loss.item():.4f}, Val Loss: {val_loss:.4f}, Val accuracy: {val_accuracy:.2f}%\")\n",
    "\n",
    "print(\"Training complete!\")"
   ]
  },
  {
   "cell_type": "code",
   "execution_count": 59,
   "id": "6abccc9e-7767-4f4c-baaf-067c4aa36868",
   "metadata": {},
   "outputs": [
    {
     "data": {
      "text/plain": [
       "torch.Size([100, 10, 10])"
      ]
     },
     "execution_count": 59,
     "metadata": {},
     "output_type": "execute_result"
    }
   ],
   "source": [
    "all_NTK_mat.shape"
   ]
  },
  {
   "cell_type": "code",
   "execution_count": 60,
   "id": "c97a5acb-0a5d-4cca-8111-9f792e82bda3",
   "metadata": {},
   "outputs": [],
   "source": [
    "a = torch.linalg.eigvals(all_NTK_mat)"
   ]
  },
  {
   "cell_type": "code",
   "execution_count": 61,
   "id": "5fe42288-354c-4715-b121-6f207e8125c9",
   "metadata": {},
   "outputs": [],
   "source": [
    "max_eig = []\n",
    "min_eig = []\n",
    "for i in range(all_NTK_mat.shape[0]):\n",
    "    max_eig.append(abs(a[i][0].item()))\n",
    "    min_eig.append(abs(a[i][-1].item()))"
   ]
  },
  {
   "cell_type": "code",
   "execution_count": 62,
   "id": "ad26451d-5430-44ad-aa81-a1511619d4e9",
   "metadata": {},
   "outputs": [
    {
     "data": {
      "text/plain": [
       "[<matplotlib.lines.Line2D at 0xa6466de38c0>]"
      ]
     },
     "execution_count": 62,
     "metadata": {},
     "output_type": "execute_result"
    },
    {
     "data": {
      "image/png": "[encoded data removed]",
      "text/plain": [
       "<Figure size 640x480 with 1 Axes>"
      ]
     },
     "metadata": {},
     "output_type": "display_data"
    }
   ],
   "source": [
    "import matplotlib.pyplot as plt\n",
    "plt.plot(min_eig)\n",
    "plt.plot(max_eig)"
   ]
  },
  {
   "cell_type": "code",
   "execution_count": null,
   "id": "79779acd-ca87-44a3-887e-08f6c1365d0c",
   "metadata": {},
   "outputs": [],
   "source": []
  }
 ],
 "metadata": {
  "kernelspec": {
   "display_name": "Python 3 (ipykernel)",
   "language": "python",
   "name": "python3"
  },
  "language_info": {
   "codemirror_mode": {
    "name": "ipython",
    "version": 3
   },
   "file_extension": ".py",
   "mimetype": "text/x-python",
   "name": "python",
   "nbconvert_exporter": "python",
   "pygments_lexer": "ipython3",
   "version": "3.12.3"
  }
 },
 "nbformat": 4,
 "nbformat_minor": 5
}
