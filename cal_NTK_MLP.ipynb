{
 "cells": [
  {
   "cell_type": "code",
   "execution_count": 1,
   "id": "e8cd18ddf5ff2dba",
   "metadata": {
    "collapsed": false,
    "jupyter": {
     "outputs_hidden": false
    }
   },
   "outputs": [
    {
     "name": "stderr",
     "output_type": "stream",
     "text": [
      "C:\\Users\\xueho\\AppData\\Local\\Packages\\PythonSoftwareFoundation.Python.3.11_qbz5n2kfra8p0\\LocalCache\\local-packages\\Python311\\site-packages\\tqdm\\auto.py:21: TqdmWarning: IProgress not found. Please update jupyter and ipywidgets. See https://ipywidgets.readthedocs.io/en/stable/user_install.html\n",
      "  from .autonotebook import tqdm as notebook_tqdm\n"
     ]
    }
   ],
   "source": [
    "import torch \n",
    "import torch.nn as nn\n",
    "import torch.optim as optim\n",
    "from functorch import make_functional, vmap, vjp, jvp, jacrev, make_functional_with_buffers\n",
    "from continuum import ClassIncremental\n",
    "from continuum.datasets import CIFAR10\n",
    "from continuum.tasks import split_train_val\n",
    "from torch.utils.data import DataLoader\n",
    "import numpy as np\n",
    "from matplotlib import pyplot as plt\n",
    "\n",
    "import warnings\n",
    "#warnings.filterwarnings(\"ignore\")\n",
    "DEVICE = \"cuda\""
   ]
  },
  {
   "cell_type": "code",
   "execution_count": 2,
   "id": "initial_id",
   "metadata": {
    "ExecuteTime": {
     "end_time": "2025-01-16T15:08:01.067123500Z",
     "start_time": "2025-01-16T15:08:01.030154400Z"
    },
    "collapsed": false,
    "jupyter": {
     "outputs_hidden": false
    }
   },
   "outputs": [],
   "source": [
    "class CNN(nn.Module):\n",
    "    def __init__(self, input_dim, hidden_dim, output_dim):\n",
    "        super(CNN, self).__init__()\n",
    "        self.conv_layer1 = torch.nn.Sequential(\n",
    "            torch.nn.Conv2d(input_dim, 32, kernel_size=5),\n",
    "            # torch.nn.BatchNorm2d(32),\n",
    "            torch.nn.ReLU(),\n",
    "        )\n",
    "        self.conv_layer2 = torch.nn.Sequential(\n",
    "            torch.nn.Conv2d(32, 32, kernel_size=3),\n",
    "            # torch.nn.BatchNorm2d(32),\n",
    "            torch.nn.ReLU(),\n",
    "        )\n",
    "        self.pool1 = torch.nn.MaxPool2d((2, 2), stride=(2, 2))\n",
    "        self.conv_layer3 = torch.nn.Sequential(\n",
    "            torch.nn.Conv2d(32, 64, kernel_size=3),\n",
    "            # torch.nn.BatchNorm2d(64),\n",
    "            torch.nn.ReLU(),\n",
    "        )\n",
    "        self.conv_layer4 = torch.nn.Sequential(\n",
    "            torch.nn.Conv2d(64, 64, kernel_size=3),\n",
    "            # torch.nn.BatchNorm2d(64),\n",
    "            torch.nn.ReLU(),\n",
    "        )\n",
    "        self.layer1 = nn.Linear(64*9*9, hidden_dim)\n",
    "        self.layer2 = nn.Linear(hidden_dim, hidden_dim)\n",
    "        self.output_layer = nn.Linear(hidden_dim, output_dim)\n",
    "\n",
    "    def forward(self, x):\n",
    "        x = self.conv_layer1(x)\n",
    "        x = self.conv_layer2(x)\n",
    "        x = self.pool1(x)\n",
    "        x = self.conv_layer3(x)\n",
    "        x = torch.flatten(self.conv_layer4(x),start_dim=1)\n",
    "        x = torch.relu(self.layer1(x))\n",
    "        x = torch.relu(self.layer2(x))\n",
    "        x = self.output_layer(x)\n",
    "        return x"
   ]
  },
  {
   "cell_type": "code",
   "execution_count": 66,
   "id": "1c4bd2f5",
   "metadata": {},
   "outputs": [],
   "source": [
    "class NN(nn.Module):\n",
    "    def __init__(self, layer_sizes):\n",
    "        super(NN, self).__init__()\n",
    "        self.linears = nn.ModuleList()\n",
    "        for i in range(len(layer_sizes) - 1):\n",
    "            m = nn.Linear(layer_sizes[i], layer_sizes[i + 1])\n",
    "            self.linears.append(m)\n",
    "        \n",
    "    def forward(self, x):\n",
    "        for linear in self.linears[:-1]:\n",
    "            x = torch.relu(linear(x))\n",
    "        x = self.linears[-1](x)\n",
    "        return x "
   ]
  },
  {
   "cell_type": "code",
   "execution_count": null,
   "id": "cf90debe",
   "metadata": {},
   "outputs": [
    {
     "name": "stdout",
     "output_type": "stream",
     "text": [
      "Files already downloaded and verified\n",
      "Number of classes: 10.\n",
      "Number of tasks: 5.\n"
     ]
    }
   ],
   "source": [
    "# Prepare Dataset\n",
    "dataset = CIFAR10(\"Datasets/CIFAR10/\", download=True, train=True) # Change download to True \n",
    "\n",
    "scenario = ClassIncremental(\n",
    "    dataset,\n",
    "    increment=2,\n",
    "    initial_increment=2\n",
    ")\n",
    "\n",
    "print(f\"Number of classes: {scenario.nb_classes}.\")\n",
    "print(f\"Number of tasks: {scenario.nb_tasks}.\")\n",
    "\n",
    "all_datasets = dict()\n",
    "for task_id, train_taskset in enumerate(scenario):\n",
    "    all_datasets[task_id] = train_taskset\n",
    "\n",
    "train_taskset, val_taskset = split_train_val(all_datasets[0], val_split=0.1)\n",
    "train_loader = DataLoader(train_taskset, batch_size=100, shuffle=True)\n",
    "val_loader = DataLoader(val_taskset, batch_size=100, shuffle=True)\n",
    "\n"
   ]
  },
  {
   "cell_type": "code",
   "execution_count": 42,
   "id": "9fb8c2a1",
   "metadata": {},
   "outputs": [
    {
     "name": "stderr",
     "output_type": "stream",
     "text": [
      "C:\\Users\\xueho\\AppData\\Local\\Temp\\ipykernel_20020\\1860639731.py:4: FutureWarning: We've integrated functorch into PyTorch. As the final step of the integration, `functorch.make_functional` is deprecated as of PyTorch 2.0 and will be deleted in a future version of PyTorch >= 2.3. Please use `torch.func.functional_call` instead; see the PyTorch 2.0 release notes and/or the `torch.func` migration guide for more details https://pytorch.org/docs/main/func.migrating.html\n",
      "  fnet, params = make_functional(net)\n"
     ]
    }
   ],
   "source": [
    "layer_sizes = [32*32*3] + [100] * 3 + [10]\n",
    "net = NN(layer_sizes).to(DEVICE)\n",
    " \n",
    "fnet, params = make_functional(net)\n",
    "# if your net has buffers\n",
    "# fnet, params, buffers = make_functional_with_buffers(net)"
   ]
  },
  {
   "cell_type": "code",
   "execution_count": 6,
   "id": "a885e099",
   "metadata": {},
   "outputs": [],
   "source": [
    "def fnet_single(params, x): # For a single input x\n",
    "    return fnet(params, x.unsqueeze(0)).squeeze(0)\n",
    "\n",
    "def empirical_ntk(fnet_single, params, x1, x2, compute='trace'):\n",
    "    # Compute J(x1)\n",
    "    jac1 = vmap(jacrev(fnet_single), (None, 0))(params, x1)\n",
    "    jac1 = [j.flatten(2) for j in jac1]\n",
    "    \n",
    "    # Compute J(x2)\n",
    "    jac2 = vmap(jacrev(fnet_single), (None, 0))(params, x2)\n",
    "    jac2 = [j.flatten(2) for j in jac2]\n",
    "    \n",
    "    # Compute J(x1) @ J(x2).T\n",
    "    einsum_expr = None\n",
    "    if compute == 'full':\n",
    "        einsum_expr = 'Naf,Mbf->NMab'\n",
    "    elif compute == 'trace':\n",
    "        einsum_expr = 'Naf,Maf->NM'\n",
    "    elif compute == 'diagonal':\n",
    "        einsum_expr = 'Naf,Maf->NMa'\n",
    "    else:\n",
    "        assert False\n",
    "        \n",
    "    result = torch.stack([torch.einsum(einsum_expr, j1, j2) for j1, j2 in zip(jac1, jac2)])\n",
    "    result = result.sum(0)\n",
    "    return result"
   ]
  },
  {
   "cell_type": "code",
   "execution_count": 84,
   "id": "b1b9b7a8-8e1d-4166-b17b-d63d1e98d27c",
   "metadata": {},
   "outputs": [],
   "source": [
    "def train_task_i(i):\n",
    "\n",
    "    def cal_NTK(net,train_taskset,output_dim,num_session):\n",
    "        all_train_loader = DataLoader(train_taskset, batch_size=10000, shuffle=True)\n",
    "        all_train_data = next(iter(all_train_loader))[0].to(DEVICE) # torch.Size([9000, 3, 32, 32])\n",
    "        for n in range(num_session):\n",
    "            train_data_sub = next(iter(all_train_loader))[0][n*output_dim:(n+1)*output_dim,:,:,:].to(DEVICE) # torch.Size([output_dim, 3, 32, 32])\n",
    "            train_data_sub = train_data_sub.flatten(start_dim=1)\n",
    "            _, params= make_functional(net)\n",
    "            result = empirical_ntk(fnet_single, params, train_data_sub, train_data_sub, 'trace')\n",
    "        return result\n",
    "\n",
    "    train_taskset, val_taskset = split_train_val(all_datasets[i], val_split=0.1)\n",
    "    train_loader = DataLoader(train_taskset, batch_size=32, shuffle=True)\n",
    "    val_loader = DataLoader(val_taskset, batch_size=100, shuffle=True)\n",
    "\n",
    "    # Hyperparameters\n",
    "    output_dim = 50\n",
    "    num_epochs = 20\n",
    "    learning_rate = 1e-3\n",
    "    #beta = 0.5 # KL divergence scaling factor\n",
    "    all_NTK_mat = torch.zeros([num_epochs,output_dim,output_dim])\n",
    "\n",
    "    # Model, optimizer, and loss function\n",
    "    #net = CNN(input_dim, hidden_dim, output_dim).to(DEVICE)\n",
    "    optimizer = optim.Adam(net.parameters(), lr=learning_rate)\n",
    "    criterion = nn.CrossEntropyLoss()\n",
    "\n",
    "    # Training loop\n",
    "    for epoch in range(num_epochs):\n",
    "        net.train()\n",
    "        for x, y, t in train_loader:\n",
    "            # Forward pass\n",
    "            x_batch = torch.flatten(x,start_dim=1)\n",
    "            x_batch = x_batch.to(DEVICE)\n",
    "            #outputs = net(x_batch)\n",
    "            outputs = torch.sigmoid(net(x_batch))\n",
    "            target = (y-2*i).float()\n",
    "            nll_loss = criterion(outputs.flatten().cpu(), target)\n",
    "        \n",
    "            # Backward pass\n",
    "            optimizer.zero_grad()\n",
    "            nll_loss.backward()\n",
    "            optimizer.step()\n",
    "        \n",
    "        net.eval()\n",
    "        val_loss = 0\n",
    "        correct = 0\n",
    "        total = 0\n",
    "        with torch.no_grad():\n",
    "            all_NTK_mat[epoch] = cal_NTK(net,train_taskset,output_dim)\n",
    "            for X_val, y_val_batch, t in val_loader:\n",
    "                X_val_batch = torch.flatten(X_val,start_dim=1).to(DEVICE)\n",
    "                #X_val_batch = X_val.to(DEVICE)\n",
    "                #val_outputs = net(X_val_batch)\n",
    "                val_outputs = torch.sigmoid(net(X_val_batch)).cpu()\n",
    "                val_loss += criterion(val_outputs.flatten().cpu(), y_val_batch.float()).item()\n",
    "\n",
    "                predicted = (val_outputs>0.5).int() + 2*i\n",
    "                correct += (predicted.flatten() == y_val_batch.flatten()).sum().item()\n",
    "                total += y_val_batch.size(0)\n",
    "        val_accuracy = correct / total * 100\n",
    "        \n",
    "        print(f\"Epoch [{epoch+1}/{num_epochs}], Train Loss: {nll_loss.item():.4f}, Val Loss: {val_loss:.4f}, Val accuracy: {val_accuracy:.2f}%\")\n",
    "\n",
    "    print(f\"Training task {i} complete!\")\n",
    "    return all_NTK_mat"
   ]
  },
  {
   "cell_type": "code",
   "execution_count": 85,
   "id": "4cceb9da",
   "metadata": {},
   "outputs": [
    {
     "name": "stderr",
     "output_type": "stream",
     "text": [
      "C:\\Users\\xueho\\AppData\\Local\\Temp\\ipykernel_20020\\1032793793.py:8: FutureWarning: We've integrated functorch into PyTorch. As the final step of the integration, `functorch.make_functional` is deprecated as of PyTorch 2.0 and will be deleted in a future version of PyTorch >= 2.3. Please use `torch.func.functional_call` instead; see the PyTorch 2.0 release notes and/or the `torch.func` migration guide for more details https://pytorch.org/docs/main/func.migrating.html\n",
      "  _, params= make_functional(net)\n",
      "C:\\Users\\xueho\\AppData\\Local\\Temp\\ipykernel_20020\\1284363017.py:6: FutureWarning: We've integrated functorch into PyTorch. As the final step of the integration, `functorch.jacrev` is deprecated as of PyTorch 2.0 and will be deleted in a future version of PyTorch >= 2.3. Please use `torch.func.jacrev` instead; see the PyTorch 2.0 release notes and/or the `torch.func` migration guide for more details https://pytorch.org/docs/main/func.migrating.html\n",
      "  jac1 = vmap(jacrev(fnet_single), (None, 0))(params, x1)\n",
      "C:\\Users\\xueho\\AppData\\Local\\Temp\\ipykernel_20020\\1284363017.py:6: FutureWarning: We've integrated functorch into PyTorch. As the final step of the integration, `functorch.vmap` is deprecated as of PyTorch 2.0 and will be deleted in a future version of PyTorch >= 2.3. Please use `torch.vmap` instead; see the PyTorch 2.0 release notes and/or the `torch.func` migration guide for more details https://pytorch.org/docs/main/func.migrating.html\n",
      "  jac1 = vmap(jacrev(fnet_single), (None, 0))(params, x1)\n",
      "C:\\Users\\xueho\\AppData\\Local\\Temp\\ipykernel_20020\\1284363017.py:10: FutureWarning: We've integrated functorch into PyTorch. As the final step of the integration, `functorch.jacrev` is deprecated as of PyTorch 2.0 and will be deleted in a future version of PyTorch >= 2.3. Please use `torch.func.jacrev` instead; see the PyTorch 2.0 release notes and/or the `torch.func` migration guide for more details https://pytorch.org/docs/main/func.migrating.html\n",
      "  jac2 = vmap(jacrev(fnet_single), (None, 0))(params, x2)\n",
      "C:\\Users\\xueho\\AppData\\Local\\Temp\\ipykernel_20020\\1284363017.py:10: FutureWarning: We've integrated functorch into PyTorch. As the final step of the integration, `functorch.vmap` is deprecated as of PyTorch 2.0 and will be deleted in a future version of PyTorch >= 2.3. Please use `torch.vmap` instead; see the PyTorch 2.0 release notes and/or the `torch.func` migration guide for more details https://pytorch.org/docs/main/func.migrating.html\n",
      "  jac2 = vmap(jacrev(fnet_single), (None, 0))(params, x2)\n"
     ]
    },
    {
     "name": "stdout",
     "output_type": "stream",
     "text": [
      "Epoch [1/20], Train Loss: 9.5927, Val Loss: 2192.4392, Val accuracy: 84.90%\n",
      "Epoch [2/20], Train Loss: 6.0696, Val Loss: 2191.7986, Val accuracy: 84.50%\n",
      "Epoch [3/20], Train Loss: 2.9968, Val Loss: 2189.1827, Val accuracy: 85.40%\n",
      "Epoch [4/20], Train Loss: 6.8219, Val Loss: 2188.9667, Val accuracy: 84.50%\n",
      "Epoch [5/20], Train Loss: 7.4424, Val Loss: 2186.6427, Val accuracy: 85.40%\n",
      "Epoch [6/20], Train Loss: 10.0428, Val Loss: 2187.7467, Val accuracy: 85.30%\n",
      "Epoch [7/20], Train Loss: 7.1306, Val Loss: 2187.4320, Val accuracy: 85.60%\n",
      "Epoch [8/20], Train Loss: 11.7923, Val Loss: 2191.2742, Val accuracy: 84.80%\n",
      "Epoch [9/20], Train Loss: 9.3702, Val Loss: 2188.9123, Val accuracy: 84.80%\n",
      "Epoch [10/20], Train Loss: 6.8220, Val Loss: 2192.6778, Val accuracy: 84.80%\n",
      "Epoch [11/20], Train Loss: 6.2729, Val Loss: 2189.5416, Val accuracy: 84.80%\n",
      "Epoch [12/20], Train Loss: 9.0452, Val Loss: 2192.1031, Val accuracy: 84.10%\n",
      "Epoch [13/20], Train Loss: 10.2388, Val Loss: 2186.2003, Val accuracy: 85.60%\n",
      "Epoch [14/20], Train Loss: 5.1025, Val Loss: 2189.7624, Val accuracy: 85.00%\n",
      "Epoch [15/20], Train Loss: 7.2354, Val Loss: 2189.7627, Val accuracy: 85.20%\n",
      "Epoch [16/20], Train Loss: 7.5622, Val Loss: 2194.4469, Val accuracy: 83.70%\n",
      "Epoch [17/20], Train Loss: 9.7164, Val Loss: 2187.2578, Val accuracy: 85.20%\n",
      "Epoch [18/20], Train Loss: 6.8274, Val Loss: 2191.1627, Val accuracy: 85.00%\n",
      "Epoch [19/20], Train Loss: 6.9674, Val Loss: 2190.2480, Val accuracy: 85.30%\n",
      "Epoch [20/20], Train Loss: 4.7363, Val Loss: 2188.7663, Val accuracy: 85.60%\n",
      "Training task 0 complete!\n"
     ]
    }
   ],
   "source": [
    "ntk = train_task_i(0)"
   ]
  },
  {
   "cell_type": "code",
   "execution_count": 82,
   "id": "2cd58d55",
   "metadata": {},
   "outputs": [
    {
     "data": {
      "text/plain": [
       "torch.Size([20, 100, 100])"
      ]
     },
     "execution_count": 82,
     "metadata": {},
     "output_type": "execute_result"
    }
   ],
   "source": [
    "ntk.size()"
   ]
  },
  {
   "cell_type": "code",
   "execution_count": 73,
   "id": "b0986e75",
   "metadata": {},
   "outputs": [
    {
     "name": "stderr",
     "output_type": "stream",
     "text": [
      "C:\\Users\\xueho\\AppData\\Local\\Temp\\ipykernel_20020\\2415261575.py:8: FutureWarning: We've integrated functorch into PyTorch. As the final step of the integration, `functorch.make_functional` is deprecated as of PyTorch 2.0 and will be deleted in a future version of PyTorch >= 2.3. Please use `torch.func.functional_call` instead; see the PyTorch 2.0 release notes and/or the `torch.func` migration guide for more details https://pytorch.org/docs/main/func.migrating.html\n",
      "  _, params= make_functional(net)\n",
      "C:\\Users\\xueho\\AppData\\Local\\Temp\\ipykernel_20020\\1284363017.py:6: FutureWarning: We've integrated functorch into PyTorch. As the final step of the integration, `functorch.jacrev` is deprecated as of PyTorch 2.0 and will be deleted in a future version of PyTorch >= 2.3. Please use `torch.func.jacrev` instead; see the PyTorch 2.0 release notes and/or the `torch.func` migration guide for more details https://pytorch.org/docs/main/func.migrating.html\n",
      "  jac1 = vmap(jacrev(fnet_single), (None, 0))(params, x1)\n",
      "C:\\Users\\xueho\\AppData\\Local\\Temp\\ipykernel_20020\\1284363017.py:6: FutureWarning: We've integrated functorch into PyTorch. As the final step of the integration, `functorch.vmap` is deprecated as of PyTorch 2.0 and will be deleted in a future version of PyTorch >= 2.3. Please use `torch.vmap` instead; see the PyTorch 2.0 release notes and/or the `torch.func` migration guide for more details https://pytorch.org/docs/main/func.migrating.html\n",
      "  jac1 = vmap(jacrev(fnet_single), (None, 0))(params, x1)\n",
      "C:\\Users\\xueho\\AppData\\Local\\Temp\\ipykernel_20020\\1284363017.py:10: FutureWarning: We've integrated functorch into PyTorch. As the final step of the integration, `functorch.jacrev` is deprecated as of PyTorch 2.0 and will be deleted in a future version of PyTorch >= 2.3. Please use `torch.func.jacrev` instead; see the PyTorch 2.0 release notes and/or the `torch.func` migration guide for more details https://pytorch.org/docs/main/func.migrating.html\n",
      "  jac2 = vmap(jacrev(fnet_single), (None, 0))(params, x2)\n",
      "C:\\Users\\xueho\\AppData\\Local\\Temp\\ipykernel_20020\\1284363017.py:10: FutureWarning: We've integrated functorch into PyTorch. As the final step of the integration, `functorch.vmap` is deprecated as of PyTorch 2.0 and will be deleted in a future version of PyTorch >= 2.3. Please use `torch.vmap` instead; see the PyTorch 2.0 release notes and/or the `torch.func` migration guide for more details https://pytorch.org/docs/main/func.migrating.html\n",
      "  jac2 = vmap(jacrev(fnet_single), (None, 0))(params, x2)\n"
     ]
    },
    {
     "name": "stdout",
     "output_type": "stream",
     "text": [
      "Epoch [1/10], Train Loss: 6.8231, Val Loss: 2203.4926, Val accuracy: 81.80%\n",
      "Epoch [2/10], Train Loss: 3.1677, Val Loss: 2199.3432, Val accuracy: 82.20%\n",
      "Epoch [3/10], Train Loss: 10.0119, Val Loss: 2199.6644, Val accuracy: 83.00%\n",
      "Epoch [4/10], Train Loss: 7.2883, Val Loss: 2200.9166, Val accuracy: 81.80%\n",
      "Epoch [5/10], Train Loss: 14.5215, Val Loss: 2196.9874, Val accuracy: 83.30%\n",
      "Epoch [6/10], Train Loss: 9.0470, Val Loss: 2198.8921, Val accuracy: 82.80%\n",
      "Epoch [7/10], Train Loss: 9.7739, Val Loss: 2201.2895, Val accuracy: 82.30%\n",
      "Epoch [8/10], Train Loss: 3.0657, Val Loss: 2194.2509, Val accuracy: 83.90%\n",
      "Epoch [9/10], Train Loss: 9.2446, Val Loss: 2195.6721, Val accuracy: 83.30%\n",
      "Epoch [10/10], Train Loss: 13.9800, Val Loss: 2197.7547, Val accuracy: 83.50%\n",
      "Training task 0 complete!\n",
      "tensor([[[ 7.2581e+02,  9.3009e+01,  1.5839e+01,  ...,  4.3559e+01,\n",
      "          -2.4357e+01,  1.6052e+02],\n",
      "         [ 9.3009e+01,  4.2604e+03,  7.6738e+00,  ...,  1.8386e+00,\n",
      "           2.1428e+02, -6.8648e+01],\n",
      "         [ 1.5839e+01,  7.6738e+00,  3.2055e+02,  ...,  1.0863e+02,\n",
      "          -6.3372e+01,  1.7279e+02],\n",
      "         ...,\n",
      "         [ 4.3559e+01,  1.8386e+00,  1.0863e+02,  ...,  4.8904e+02,\n",
      "          -3.5417e+01,  1.8280e+02],\n",
      "         [-2.4357e+01,  2.1428e+02, -6.3372e+01,  ..., -3.5417e+01,\n",
      "           1.5890e+03, -2.3860e+02],\n",
      "         [ 1.6052e+02, -6.8648e+01,  1.7279e+02,  ...,  1.8280e+02,\n",
      "          -2.3860e+02,  1.6795e+03]],\n",
      "\n",
      "        [[ 4.8977e+02,  2.5828e+00, -1.1877e+02,  ..., -2.8005e+01,\n",
      "          -7.8637e+00,  1.4177e+02],\n",
      "         [ 2.5828e+00,  3.7025e+02,  6.8932e+01,  ...,  5.5992e+01,\n",
      "           1.1835e+02, -2.0325e+01],\n",
      "         [-1.1877e+02,  6.8932e+01,  5.1312e+03,  ...,  4.6506e+02,\n",
      "           1.6077e+02, -1.9976e+02],\n",
      "         ...,\n",
      "         [-2.8005e+01,  5.5992e+01,  4.6506e+02,  ...,  1.1246e+03,\n",
      "           1.1611e+02, -1.0394e+02],\n",
      "         [-7.8637e+00,  1.1835e+02,  1.6077e+02,  ...,  1.1611e+02,\n",
      "           2.8726e+02, -3.2971e+01],\n",
      "         [ 1.4177e+02, -2.0325e+01, -1.9976e+02,  ..., -1.0394e+02,\n",
      "          -3.2971e+01,  3.2992e+03]],\n",
      "\n",
      "        [[ 8.8427e+02,  3.8300e+01,  1.7731e+01,  ...,  2.1942e+01,\n",
      "           1.1710e+02, -8.2739e+01],\n",
      "         [ 3.8300e+01,  4.4727e+02,  7.5704e+01,  ...,  3.8624e+01,\n",
      "           1.0420e+02,  8.6241e-01],\n",
      "         [ 1.7731e+01,  7.5704e+01,  3.8955e+02,  ...,  6.0212e+01,\n",
      "           2.3302e+01,  1.9809e+01],\n",
      "         ...,\n",
      "         [ 2.1942e+01,  3.8624e+01,  6.0212e+01,  ...,  4.4080e+02,\n",
      "           2.6361e-01,  5.1641e+01],\n",
      "         [ 1.1710e+02,  1.0420e+02,  2.3302e+01,  ...,  2.6361e-01,\n",
      "           7.0273e+02, -6.2894e+00],\n",
      "         [-8.2739e+01,  8.6241e-01,  1.9809e+01,  ...,  5.1641e+01,\n",
      "          -6.2894e+00,  5.9527e+02]],\n",
      "\n",
      "        ...,\n",
      "\n",
      "        [[ 5.4289e+02,  3.4889e+01,  7.0982e+01,  ...,  1.2370e+02,\n",
      "           8.7198e+01,  6.6705e+01],\n",
      "         [ 3.4889e+01,  2.8919e+02,  9.6944e+01,  ...,  1.1476e+01,\n",
      "           2.8148e+01,  1.2173e+02],\n",
      "         [ 7.0982e+01,  9.6944e+01,  6.6725e+02,  ...,  2.0016e+01,\n",
      "           6.2711e+01,  4.3348e+01],\n",
      "         ...,\n",
      "         [ 1.2370e+02,  1.1476e+01,  2.0016e+01,  ...,  5.0029e+02,\n",
      "           7.9668e+01,  2.7249e+01],\n",
      "         [ 8.7198e+01,  2.8148e+01,  6.2711e+01,  ...,  7.9668e+01,\n",
      "           3.3738e+02,  3.3105e+01],\n",
      "         [ 6.6705e+01,  1.2173e+02,  4.3348e+01,  ...,  2.7249e+01,\n",
      "           3.3105e+01,  1.2792e+03]],\n",
      "\n",
      "        [[ 8.4668e+02, -5.3761e+01, -3.1705e+01,  ...,  1.6987e+01,\n",
      "           7.5413e+01,  5.3954e+01],\n",
      "         [-5.3761e+01,  4.4393e+02,  9.2719e+01,  ..., -4.6228e+01,\n",
      "           1.9455e+01, -4.1179e+01],\n",
      "         [-3.1705e+01,  9.2719e+01,  4.9339e+02,  ..., -8.9195e+00,\n",
      "           2.2507e+01, -9.6933e+00],\n",
      "         ...,\n",
      "         [ 1.6987e+01, -4.6228e+01, -8.9195e+00,  ...,  1.0412e+03,\n",
      "           1.7440e+02,  9.2562e+01],\n",
      "         [ 7.5413e+01,  1.9455e+01,  2.2507e+01,  ...,  1.7440e+02,\n",
      "           5.6849e+02,  5.2985e+01],\n",
      "         [ 5.3954e+01, -4.1179e+01, -9.6933e+00,  ...,  9.2562e+01,\n",
      "           5.2985e+01,  3.3339e+02]],\n",
      "\n",
      "        [[ 9.9170e+02,  1.8107e+02,  1.0995e+01,  ..., -9.5689e+01,\n",
      "           2.5824e+01,  3.0791e+02],\n",
      "         [ 1.8107e+02,  9.1233e+02, -1.1145e+01,  ..., -3.9347e+01,\n",
      "          -3.1707e+01,  1.5835e+02],\n",
      "         [ 1.0995e+01, -1.1145e+01,  2.1269e+02,  ..., -6.3739e+00,\n",
      "           4.5939e+01,  4.6497e+01],\n",
      "         ...,\n",
      "         [-9.5689e+01, -3.9347e+01, -6.3739e+00,  ...,  5.7832e+02,\n",
      "          -3.9860e+01, -8.6487e+01],\n",
      "         [ 2.5824e+01, -3.1707e+01,  4.5939e+01,  ..., -3.9860e+01,\n",
      "           5.1674e+02,  2.8901e+01],\n",
      "         [ 3.0791e+02,  1.5835e+02,  4.6497e+01,  ..., -8.6487e+01,\n",
      "           2.8901e+01,  1.0315e+03]]])\n",
      "Epoch [1/10], Train Loss: 12.0254, Val Loss: 11711.2616, Val accuracy: 67.30%\n",
      "Epoch [2/10], Train Loss: 10.3575, Val Loss: 11713.3687, Val accuracy: 71.60%\n",
      "Epoch [3/10], Train Loss: 9.7509, Val Loss: 11698.4176, Val accuracy: 73.80%\n"
     ]
    },
    {
     "ename": "KeyboardInterrupt",
     "evalue": "",
     "output_type": "error",
     "traceback": [
      "\u001b[1;31m---------------------------------------------------------------------------\u001b[0m",
      "\u001b[1;31mKeyboardInterrupt\u001b[0m                         Traceback (most recent call last)",
      "Cell \u001b[1;32mIn[73], line 4\u001b[0m\n\u001b[0;32m      2\u001b[0m ntk \u001b[38;5;241m=\u001b[39m []\n\u001b[0;32m      3\u001b[0m \u001b[38;5;28;01mfor\u001b[39;00m i \u001b[38;5;129;01min\u001b[39;00m \u001b[38;5;28mrange\u001b[39m(num_tasks):\n\u001b[1;32m----> 4\u001b[0m     ntk\u001b[38;5;241m.\u001b[39mappend(\u001b[43mtrain_task_i\u001b[49m\u001b[43m(\u001b[49m\u001b[43mi\u001b[49m\u001b[43m)\u001b[49m)\n",
      "Cell \u001b[1;32mIn[71], line 50\u001b[0m, in \u001b[0;36mtrain_task_i\u001b[1;34m(i)\u001b[0m\n\u001b[0;32m     48\u001b[0m total \u001b[38;5;241m=\u001b[39m \u001b[38;5;241m0\u001b[39m\n\u001b[0;32m     49\u001b[0m \u001b[38;5;28;01mwith\u001b[39;00m torch\u001b[38;5;241m.\u001b[39mno_grad():\n\u001b[1;32m---> 50\u001b[0m     all_NTK_mat[epoch] \u001b[38;5;241m=\u001b[39m \u001b[43mcal_NTK\u001b[49m\u001b[43m(\u001b[49m\u001b[43mnet\u001b[49m\u001b[43m,\u001b[49m\u001b[43mtrain_taskset\u001b[49m\u001b[43m,\u001b[49m\u001b[43moutput_dim\u001b[49m\u001b[43m)\u001b[49m\n\u001b[0;32m     51\u001b[0m     \u001b[38;5;28;01mfor\u001b[39;00m X_val, y_val_batch, t \u001b[38;5;129;01min\u001b[39;00m val_loader:\n\u001b[0;32m     52\u001b[0m         X_val_batch \u001b[38;5;241m=\u001b[39m torch\u001b[38;5;241m.\u001b[39mflatten(X_val,start_dim\u001b[38;5;241m=\u001b[39m\u001b[38;5;241m1\u001b[39m)\u001b[38;5;241m.\u001b[39mto(DEVICE)\n",
      "Cell \u001b[1;32mIn[71], line 5\u001b[0m, in \u001b[0;36mtrain_task_i.<locals>.cal_NTK\u001b[1;34m(net, train_taskset, output_dim)\u001b[0m\n\u001b[0;32m      3\u001b[0m \u001b[38;5;28;01mdef\u001b[39;00m \u001b[38;5;21mcal_NTK\u001b[39m(net,train_taskset,output_dim):\n\u001b[0;32m      4\u001b[0m     all_train_loader \u001b[38;5;241m=\u001b[39m DataLoader(train_taskset, batch_size\u001b[38;5;241m=\u001b[39m\u001b[38;5;241m10000\u001b[39m, shuffle\u001b[38;5;241m=\u001b[39m\u001b[38;5;28;01mTrue\u001b[39;00m)\n\u001b[1;32m----> 5\u001b[0m     all_train_data \u001b[38;5;241m=\u001b[39m \u001b[38;5;28;43mnext\u001b[39;49m\u001b[43m(\u001b[49m\u001b[38;5;28;43miter\u001b[39;49m\u001b[43m(\u001b[49m\u001b[43mall_train_loader\u001b[49m\u001b[43m)\u001b[49m\u001b[43m)\u001b[49m\u001b[43m[\u001b[49m\u001b[38;5;241;43m0\u001b[39;49m\u001b[43m]\u001b[49m\u001b[38;5;241;43m.\u001b[39;49m\u001b[43mto\u001b[49m\u001b[43m(\u001b[49m\u001b[43mDEVICE\u001b[49m\u001b[43m)\u001b[49m \u001b[38;5;66;03m# torch.Size([9000, 3, 32, 32])\u001b[39;00m\n\u001b[0;32m      6\u001b[0m     train_data_sub \u001b[38;5;241m=\u001b[39m \u001b[38;5;28mnext\u001b[39m(\u001b[38;5;28miter\u001b[39m(all_train_loader))[\u001b[38;5;241m0\u001b[39m][:output_dim,:,:,:]\u001b[38;5;241m.\u001b[39mto(DEVICE) \u001b[38;5;66;03m# torch.Size([output_dim, 3, 32, 32])\u001b[39;00m\n\u001b[0;32m      7\u001b[0m     train_data_sub \u001b[38;5;241m=\u001b[39m train_data_sub\u001b[38;5;241m.\u001b[39mflatten(start_dim\u001b[38;5;241m=\u001b[39m\u001b[38;5;241m1\u001b[39m)\n",
      "\u001b[1;31mKeyboardInterrupt\u001b[0m: "
     ]
    }
   ],
   "source": [
    "num_tasks = 5\n",
    "ntk = []\n",
    "for i in range(num_tasks):\n",
    "    ntk.append(train_task_i(i))"
   ]
  },
  {
   "cell_type": "code",
   "execution_count": 61,
   "id": "63478c80",
   "metadata": {},
   "outputs": [
    {
     "data": {
      "text/plain": [
       "[None, None, None, None, None]"
      ]
     },
     "execution_count": 61,
     "metadata": {},
     "output_type": "execute_result"
    }
   ],
   "source": [
    "ntk"
   ]
  },
  {
   "cell_type": "code",
   "execution_count": 86,
   "id": "c97a5acb-0a5d-4cca-8111-9f792e82bda3",
   "metadata": {},
   "outputs": [
    {
     "data": {
      "text/plain": [
       "[<matplotlib.lines.Line2D at 0x18c17ba3a50>]"
      ]
     },
     "execution_count": 86,
     "metadata": {},
     "output_type": "execute_result"
    },
    {
     "data": {
      "image/png": "[encoded data removed]",
      "text/plain": [
       "<Figure size 640x480 with 1 Axes>"
      ]
     },
     "metadata": {},
     "output_type": "display_data"
    }
   ],
   "source": [
    "# Plot eigenvalues\n",
    "a = torch.linalg.eigvals(ntk)\n",
    "max_eig = []\n",
    "min_eig = []\n",
    "for i in range(ntk.shape[0]):\n",
    "    max_eig.append(abs(a[i][0].item()))\n",
    "    min_eig.append(abs(a[i][-1].item()))\n",
    "    import matplotlib.pyplot as plt\n",
    "plt.plot(min_eig)\n",
    "plt.plot(max_eig)"
   ]
  },
  {
   "cell_type": "code",
   "execution_count": null,
   "id": "79779acd-ca87-44a3-887e-08f6c1365d0c",
   "metadata": {},
   "outputs": [],
   "source": [
    "ntk_result = empirical_ntk(fnet_single, params, x, x, 'trace')\n",
    "print(ntk_result.shape)\n",
    "# Compute eigenvalues\n",
    "lambda_K, eigvec_K = np.linalg.eig(ntk_result.detach().cpu().numpy())\n",
    " \n",
    "# Sort in descresing order\n",
    "lambda_K = np.sort(np.real(lambda_K))[::-1]\n",
    "# Visualize the eigenvectors of the NTK\n",
    "fig, axs= plt.subplots(2, 3, figsize=(12, 6))\n",
    "X = np.linspace(0, 1, len(x))\n",
    "axs[0, 0].plot(X, np.real(eigvec_K[:,0]))\n",
    "axs[0, 1].plot(X, np.real(eigvec_K[:,1]))\n",
    "axs[0, 2].plot(X, np.real(eigvec_K[:,2]))\n",
    "axs[1, 0].plot(X, np.real(eigvec_K[:,3]))\n",
    "axs[1, 1].plot(X, np.real(eigvec_K[:,4]))\n",
    "axs[1, 2].plot(X, np.real(eigvec_K[:,5]))\n",
    "plt.show()\n",
    " \n",
    "# Visualize the eigenvalues of the NTK\n",
    "fig, ax = plt.subplots(figsize=(6, 5))\n",
    "ax.plot(lambda_K)\n",
    "plt.xscale('log')\n",
    "plt.yscale('log')\n",
    "ax.set_xlabel('index')\n",
    "ax.set_ylabel(r'$\\lambda$') \n",
    "plt.show()"
   ]
  }
 ],
 "metadata": {
  "kernelspec": {
   "display_name": "Python 3",
   "language": "python",
   "name": "python3"
  },
  "language_info": {
   "codemirror_mode": {
    "name": "ipython",
    "version": 3
   },
   "file_extension": ".py",
   "mimetype": "text/x-python",
   "name": "python",
   "nbconvert_exporter": "python",
   "pygments_lexer": "ipython3",
   "version": "3.11.9"
  }
 },
 "nbformat": 4,
 "nbformat_minor": 5
}
